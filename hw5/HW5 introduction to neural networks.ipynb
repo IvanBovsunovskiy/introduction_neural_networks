{
 "cells": [
  {
   "cell_type": "markdown",
   "metadata": {
    "id": "vQnDWSn8TEOl"
   },
   "source": [
    "# Введение в искусственные нейронные сети\n",
    "# Урок 5. Рекуррентные нейронные сети"
   ]
  },
  {
   "cell_type": "markdown",
   "metadata": {
    "id": "zjQWWYJpTEPy"
   },
   "source": [
    "## Практическое задание\n",
    "\n",
    "<ol>\n",
    "    <li>Попробуйте обучить нейронную сеть LSTM на любом другом датасете (любимый временной ряд, текст на русском (другом языке) как генератор или классификатор, или прилагаемый набор airline-passengers - пасажиропоток для авиалиний). Опишите, какой результата вы получили? Что помогло вам улучшить ее точность?\n",
    "\n",
    "    \n",
    "<li>*Попробуйте на numpy реализовать нейронную сеть архитектуры LSTM</li>\n",
    "<li>*Предложите свои варианты решения проблемы исчезающего градиента в RNN</li>\n",
    "</ol>"
   ]
  },
  {
   "cell_type": "code",
   "execution_count": 1,
   "metadata": {},
   "outputs": [],
   "source": [
    "import numpy as np"
   ]
  },
  {
   "cell_type": "code",
   "execution_count": 2,
   "metadata": {},
   "outputs": [],
   "source": [
    "import matplotlib.pyplot as plt\n",
    "import pandas as pd\n",
    "#from sklearn.preprocessing import MinMaxScaler\n",
    "from __future__ import print_function"
   ]
  },
  {
   "cell_type": "code",
   "execution_count": 3,
   "metadata": {},
   "outputs": [],
   "source": [
    "from tensorflow.keras.preprocessing import sequence\n",
    "from tensorflow.keras.models import Sequential\n",
    "from tensorflow.keras.layers import Dense, Embedding, Activation, Dropout\n",
    "from tensorflow.keras.layers import SimpleRNN, LSTM, GRU"
   ]
  },
  {
   "cell_type": "code",
   "execution_count": 4,
   "metadata": {},
   "outputs": [
    {
     "data": {
      "text/plain": [
       "(1260, 7)"
      ]
     },
     "execution_count": 4,
     "metadata": {},
     "output_type": "execute_result"
    }
   ],
   "source": [
    "stock_full = pd.read_csv('BRK-A.csv') # stock Berkshire Hathaway Inc. (BRK-A) \n",
    "# https://finance.yahoo.com/quote/BRK-A/history?period1=1490832000&period2=1648598400&interval=1d&filter=history&frequency=1d&includeAdjustedClose=true\n",
    "stock_full.shape"
   ]
  },
  {
   "cell_type": "code",
   "execution_count": 5,
   "metadata": {},
   "outputs": [],
   "source": [
    "def data_preparation(df, train_days=60, scaling=False, min_val=0, max_val=1):\n",
    "    # will be used just open market(column open)\n",
    "    df_processed = df.iloc[:, 1:2].values\n",
    "    \n",
    "    if scaling:\n",
    "        df_scaled = (df_processed - min_val) / (max_val - min_val)\n",
    "        df_processed = df_scaled * (1 - 0.001) + 0.001\n",
    "        \n",
    "    features_set = []\n",
    "    labels = []\n",
    "    for i in range(train_days, df.shape[0]):\n",
    "        features_set.append(df_processed[i-train_days:i, 0])\n",
    "        labels.append(df_processed[i, 0])\n",
    "\n",
    "    features_set, labels = np.array(features_set), np.array(labels)\n",
    "    features_set = np.reshape(features_set, (features_set.shape[0], features_set.shape[1], 1))\n",
    "    return features_set, labels"
   ]
  },
  {
   "cell_type": "code",
   "execution_count": 6,
   "metadata": {},
   "outputs": [],
   "source": [
    "#number of days for predictions(train test split)\n",
    "predict_days = 40 # 3 months\n",
    "#number of days for training\n",
    "train_days = 90\n",
    "stock_train = stock_full[:-predict_days]"
   ]
  },
  {
   "cell_type": "code",
   "execution_count": 7,
   "metadata": {},
   "outputs": [],
   "source": [
    "features_set, labels = data_preparation(stock_train, train_days, True, stock_train.iloc[:,1:2].values.min(), stock_train.iloc[:,1:2].values.max())"
   ]
  },
  {
   "cell_type": "code",
   "execution_count": 8,
   "metadata": {},
   "outputs": [
    {
     "name": "stderr",
     "output_type": "stream",
     "text": [
      "2022-03-30 18:10:55.035108: I tensorflow/core/platform/cpu_feature_guard.cc:142] This TensorFlow binary is optimized with oneAPI Deep Neural Network Library (oneDNN) to use the following CPU instructions in performance-critical operations:  SSE4.1 SSE4.2 AVX AVX2 FMA\n",
      "To enable them in other operations, rebuild TensorFlow with the appropriate compiler flags.\n"
     ]
    }
   ],
   "source": [
    "model = Sequential()"
   ]
  },
  {
   "cell_type": "code",
   "execution_count": 9,
   "metadata": {},
   "outputs": [],
   "source": [
    "#NotImplementedError: Cannot convert a symbolic Tensor (lstm_3/strided_slice:0) to a numpy array. This error may indicate that you're trying to pass a Tensor to a NumPy call, which is not supported\n",
    "#conda install -c conda-forge numpy=1.19"
   ]
  },
  {
   "cell_type": "code",
   "execution_count": 10,
   "metadata": {},
   "outputs": [],
   "source": [
    "#conda install numpy==1.19.2 "
   ]
  },
  {
   "cell_type": "code",
   "execution_count": 11,
   "metadata": {},
   "outputs": [],
   "source": [
    "model.add(LSTM(units=50, return_sequences=True, input_shape=(train_days, 1)))"
   ]
  },
  {
   "cell_type": "code",
   "execution_count": 12,
   "metadata": {},
   "outputs": [],
   "source": [
    "#to avoid retraining\n",
    "model.add(Dropout(0.1))\n",
    "\n",
    "model.add(LSTM(units=50, return_sequences=True))\n",
    "model.add(Dropout(0.1))\n",
    "\n",
    "model.add(LSTM(units=50, return_sequences=True))\n",
    "model.add(Dropout(0.1))\n",
    "\n",
    "model.add(LSTM(units=50))\n",
    "model.add(Dropout(0.1))\n",
    "\n",
    "model.add(Dense(units = 1))"
   ]
  },
  {
   "cell_type": "code",
   "execution_count": 13,
   "metadata": {},
   "outputs": [],
   "source": [
    "model.compile(optimizer = 'adam', loss = 'mean_absolute_percentage_error') \n",
    "#'mean_absolute_error' #'mean_squared_error'"
   ]
  },
  {
   "cell_type": "code",
   "execution_count": 14,
   "metadata": {},
   "outputs": [
    {
     "name": "stderr",
     "output_type": "stream",
     "text": [
      "2022-03-30 18:10:56.098208: I tensorflow/compiler/mlir/mlir_graph_optimization_pass.cc:116] None of the MLIR optimization passes are enabled (registered 2)\n"
     ]
    },
    {
     "name": "stdout",
     "output_type": "stream",
     "text": [
      "Epoch 1/100\n",
      "36/36 [==============================] - 16s 277ms/step - loss: 44.2631\n",
      "Epoch 2/100\n",
      "36/36 [==============================] - 7s 198ms/step - loss: 19.6915\n",
      "Epoch 3/100\n",
      "36/36 [==============================] - 7s 187ms/step - loss: 17.9467\n",
      "Epoch 4/100\n",
      "36/36 [==============================] - 7s 206ms/step - loss: 16.3816\n",
      "Epoch 5/100\n",
      "36/36 [==============================] - 7s 190ms/step - loss: 15.5710\n",
      "Epoch 6/100\n",
      "36/36 [==============================] - 8s 208ms/step - loss: 14.0487\n",
      "Epoch 7/100\n",
      "36/36 [==============================] - 8s 211ms/step - loss: 13.4715\n",
      "Epoch 8/100\n",
      "36/36 [==============================] - 8s 237ms/step - loss: 13.9407\n",
      "Epoch 9/100\n",
      "36/36 [==============================] - 6s 179ms/step - loss: 13.3935\n",
      "Epoch 10/100\n",
      "36/36 [==============================] - 7s 185ms/step - loss: 13.5649\n",
      "Epoch 11/100\n",
      "36/36 [==============================] - 6s 176ms/step - loss: 12.4299\n",
      "Epoch 12/100\n",
      "36/36 [==============================] - 7s 189ms/step - loss: 10.6759\n",
      "Epoch 13/100\n",
      "36/36 [==============================] - 7s 189ms/step - loss: 11.6362\n",
      "Epoch 14/100\n",
      "36/36 [==============================] - 8s 212ms/step - loss: 11.6903\n",
      "Epoch 15/100\n",
      "36/36 [==============================] - 8s 228ms/step - loss: 10.4078\n",
      "Epoch 16/100\n",
      "36/36 [==============================] - 7s 194ms/step - loss: 10.6285\n",
      "Epoch 17/100\n",
      "36/36 [==============================] - 8s 217ms/step - loss: 10.7164\n",
      "Epoch 18/100\n",
      "36/36 [==============================] - 7s 195ms/step - loss: 10.8730\n",
      "Epoch 19/100\n",
      "36/36 [==============================] - 7s 189ms/step - loss: 9.2682\n",
      "Epoch 20/100\n",
      "36/36 [==============================] - 7s 199ms/step - loss: 10.2308\n",
      "Epoch 21/100\n",
      "36/36 [==============================] - 7s 191ms/step - loss: 10.1960\n",
      "Epoch 22/100\n",
      "36/36 [==============================] - 6s 177ms/step - loss: 9.8463\n",
      "Epoch 23/100\n",
      "36/36 [==============================] - 6s 170ms/step - loss: 9.7880\n",
      "Epoch 24/100\n",
      "36/36 [==============================] - 6s 173ms/step - loss: 9.3540\n",
      "Epoch 25/100\n",
      "36/36 [==============================] - 6s 170ms/step - loss: 9.4586\n",
      "Epoch 26/100\n",
      "36/36 [==============================] - 6s 178ms/step - loss: 10.4908\n",
      "Epoch 27/100\n",
      "36/36 [==============================] - 6s 172ms/step - loss: 9.6420\n",
      "Epoch 28/100\n",
      "36/36 [==============================] - 6s 172ms/step - loss: 9.6332\n",
      "Epoch 29/100\n",
      "36/36 [==============================] - 6s 173ms/step - loss: 8.5361\n",
      "Epoch 30/100\n",
      "36/36 [==============================] - 6s 168ms/step - loss: 9.5931\n",
      "Epoch 31/100\n",
      "36/36 [==============================] - 6s 172ms/step - loss: 9.7568\n",
      "Epoch 32/100\n",
      "36/36 [==============================] - 6s 171ms/step - loss: 9.4074\n",
      "Epoch 33/100\n",
      "36/36 [==============================] - 6s 178ms/step - loss: 9.7670\n",
      "Epoch 34/100\n",
      "36/36 [==============================] - 8s 214ms/step - loss: 8.6594\n",
      "Epoch 35/100\n",
      "36/36 [==============================] - 8s 212ms/step - loss: 8.8793\n",
      "Epoch 36/100\n",
      "36/36 [==============================] - 8s 221ms/step - loss: 8.5694\n",
      "Epoch 37/100\n",
      "36/36 [==============================] - 8s 216ms/step - loss: 8.8073\n",
      "Epoch 38/100\n",
      "36/36 [==============================] - 7s 207ms/step - loss: 8.5721\n",
      "Epoch 39/100\n",
      "36/36 [==============================] - 7s 190ms/step - loss: 8.5167\n",
      "Epoch 40/100\n",
      "36/36 [==============================] - 7s 191ms/step - loss: 8.3197\n",
      "Epoch 41/100\n",
      "36/36 [==============================] - 8s 229ms/step - loss: 8.1444\n",
      "Epoch 42/100\n",
      "36/36 [==============================] - 8s 226ms/step - loss: 7.8052\n",
      "Epoch 43/100\n",
      "36/36 [==============================] - 10s 276ms/step - loss: 8.4881\n",
      "Epoch 44/100\n",
      "36/36 [==============================] - 10s 276ms/step - loss: 7.6230\n",
      "Epoch 45/100\n",
      "36/36 [==============================] - 12s 321ms/step - loss: 8.5011\n",
      "Epoch 46/100\n",
      "36/36 [==============================] - 8s 219ms/step - loss: 8.3321\n",
      "Epoch 47/100\n",
      "36/36 [==============================] - 7s 190ms/step - loss: 8.3455\n",
      "Epoch 48/100\n",
      "36/36 [==============================] - 7s 189ms/step - loss: 7.9395\n",
      "Epoch 49/100\n",
      "36/36 [==============================] - 6s 171ms/step - loss: 7.2621\n",
      "Epoch 50/100\n",
      "36/36 [==============================] - 7s 189ms/step - loss: 7.8501\n",
      "Epoch 51/100\n",
      "36/36 [==============================] - 7s 182ms/step - loss: 7.4138\n",
      "Epoch 52/100\n",
      "36/36 [==============================] - 6s 174ms/step - loss: 7.3897\n",
      "Epoch 53/100\n",
      "36/36 [==============================] - 7s 193ms/step - loss: 7.4197\n",
      "Epoch 54/100\n",
      "36/36 [==============================] - 6s 169ms/step - loss: 8.1557\n",
      "Epoch 55/100\n",
      "36/36 [==============================] - 6s 177ms/step - loss: 7.3160\n",
      "Epoch 56/100\n",
      "36/36 [==============================] - 6s 170ms/step - loss: 7.4588\n",
      "Epoch 57/100\n",
      "36/36 [==============================] - 6s 172ms/step - loss: 6.9857\n",
      "Epoch 58/100\n",
      "36/36 [==============================] - 7s 184ms/step - loss: 7.5455\n",
      "Epoch 59/100\n",
      "36/36 [==============================] - 7s 186ms/step - loss: 6.8945\n",
      "Epoch 60/100\n",
      "36/36 [==============================] - 7s 181ms/step - loss: 7.9953\n",
      "Epoch 61/100\n",
      "36/36 [==============================] - 6s 180ms/step - loss: 7.1403\n",
      "Epoch 62/100\n",
      "36/36 [==============================] - 6s 171ms/step - loss: 7.4087\n",
      "Epoch 63/100\n",
      "36/36 [==============================] - 7s 185ms/step - loss: 7.1713\n",
      "Epoch 64/100\n",
      "36/36 [==============================] - 7s 185ms/step - loss: 6.7807\n",
      "Epoch 65/100\n",
      "36/36 [==============================] - 7s 199ms/step - loss: 7.1436\n",
      "Epoch 66/100\n",
      "36/36 [==============================] - 7s 184ms/step - loss: 6.6006\n",
      "Epoch 67/100\n",
      "36/36 [==============================] - 7s 185ms/step - loss: 7.1737\n",
      "Epoch 68/100\n",
      "36/36 [==============================] - 7s 180ms/step - loss: 7.3370\n",
      "Epoch 69/100\n",
      "36/36 [==============================] - 7s 190ms/step - loss: 6.7107\n",
      "Epoch 70/100\n",
      "36/36 [==============================] - 7s 185ms/step - loss: 7.6664\n",
      "Epoch 71/100\n",
      "36/36 [==============================] - 6s 180ms/step - loss: 7.2543\n",
      "Epoch 72/100\n",
      "36/36 [==============================] - 7s 182ms/step - loss: 7.3775\n",
      "Epoch 73/100\n",
      "36/36 [==============================] - 6s 169ms/step - loss: 6.9265\n",
      "Epoch 74/100\n",
      "36/36 [==============================] - 6s 179ms/step - loss: 6.5466\n",
      "Epoch 75/100\n",
      "36/36 [==============================] - 7s 193ms/step - loss: 6.9119\n",
      "Epoch 76/100\n",
      "36/36 [==============================] - 9s 238ms/step - loss: 6.2769\n",
      "Epoch 77/100\n",
      "36/36 [==============================] - 11s 296ms/step - loss: 6.2781\n",
      "Epoch 78/100\n",
      "36/36 [==============================] - 8s 208ms/step - loss: 7.4093\n",
      "Epoch 79/100\n",
      "36/36 [==============================] - 8s 210ms/step - loss: 6.7734\n",
      "Epoch 80/100\n",
      "36/36 [==============================] - 8s 225ms/step - loss: 7.0468\n",
      "Epoch 81/100\n",
      "36/36 [==============================] - 9s 262ms/step - loss: 6.1288\n",
      "Epoch 82/100\n",
      "36/36 [==============================] - 7s 208ms/step - loss: 7.7743\n",
      "Epoch 83/100\n",
      "36/36 [==============================] - 7s 190ms/step - loss: 7.0786\n",
      "Epoch 84/100\n",
      "36/36 [==============================] - 10s 288ms/step - loss: 6.6034\n",
      "Epoch 85/100\n",
      "36/36 [==============================] - 8s 217ms/step - loss: 6.5460\n",
      "Epoch 86/100\n",
      "36/36 [==============================] - 8s 222ms/step - loss: 7.1051\n",
      "Epoch 87/100\n",
      "36/36 [==============================] - 8s 226ms/step - loss: 6.6491\n",
      "Epoch 88/100\n",
      "36/36 [==============================] - 8s 217ms/step - loss: 7.1047\n",
      "Epoch 89/100\n",
      "36/36 [==============================] - 7s 202ms/step - loss: 6.7873\n",
      "Epoch 90/100\n",
      "36/36 [==============================] - 8s 208ms/step - loss: 6.7071\n",
      "Epoch 91/100\n",
      "36/36 [==============================] - 8s 227ms/step - loss: 6.7148\n",
      "Epoch 92/100\n",
      "36/36 [==============================] - 9s 244ms/step - loss: 6.4775\n",
      "Epoch 93/100\n",
      "36/36 [==============================] - 8s 207ms/step - loss: 6.7442\n",
      "Epoch 94/100\n",
      "36/36 [==============================] - 8s 232ms/step - loss: 6.2857\n",
      "Epoch 95/100\n",
      "36/36 [==============================] - 9s 264ms/step - loss: 6.3773\n",
      "Epoch 96/100\n",
      "36/36 [==============================] - 8s 207ms/step - loss: 6.2696\n",
      "Epoch 97/100\n",
      "36/36 [==============================] - 7s 204ms/step - loss: 7.5022\n",
      "Epoch 98/100\n",
      "36/36 [==============================] - 7s 186ms/step - loss: 6.1287\n",
      "Epoch 99/100\n"
     ]
    },
    {
     "name": "stdout",
     "output_type": "stream",
     "text": [
      "36/36 [==============================] - 7s 192ms/step - loss: 6.6479\n",
      "Epoch 100/100\n",
      "36/36 [==============================] - 7s 192ms/step - loss: 6.6959\n"
     ]
    },
    {
     "data": {
      "text/plain": [
       "<tensorflow.python.keras.callbacks.History at 0x7fd6d2f67910>"
      ]
     },
     "execution_count": 14,
     "metadata": {},
     "output_type": "execute_result"
    }
   ],
   "source": [
    "model.fit(features_set, labels, epochs = 100, batch_size = 32)"
   ]
  },
  {
   "cell_type": "code",
   "execution_count": 15,
   "metadata": {},
   "outputs": [],
   "source": [
    "# test data preparation - additional train_days to predict data for all predict_days\n",
    "stock_test = stock_full[-(predict_days+train_days):]"
   ]
  },
  {
   "cell_type": "code",
   "execution_count": 16,
   "metadata": {},
   "outputs": [],
   "source": [
    "features_set_test, labels_test = data_preparation(stock_test, train_days,  True, stock_train.iloc[:,1:2].values.min(), stock_train.iloc[:,1:2].values.max())"
   ]
  },
  {
   "cell_type": "code",
   "execution_count": 17,
   "metadata": {},
   "outputs": [
    {
     "data": {
      "text/plain": [
       "((40, 90, 1), 40, 90, (1130, 90, 1), (130, 7))"
      ]
     },
     "execution_count": 17,
     "metadata": {},
     "output_type": "execute_result"
    }
   ],
   "source": [
    "features_set_test.shape, predict_days, train_days, features_set.shape, stock_test.shape"
   ]
  },
  {
   "cell_type": "code",
   "execution_count": 18,
   "metadata": {},
   "outputs": [],
   "source": [
    "predictions = (model.predict(features_set_test)-0.001)/(1 - 0.001)*(stock_train.iloc[:,1:2].values.max()-stock_train.iloc[:,1:2].values.min()) + stock_train.iloc[:,1:2].values.min()"
   ]
  },
  {
   "cell_type": "code",
   "execution_count": 20,
   "metadata": {},
   "outputs": [
    {
     "data": {
      "image/png": "[encoded data removed]",
      "text/plain": [
       "<Figure size 720x432 with 1 Axes>"
      ]
     },
     "metadata": {
      "needs_background": "light"
     },
     "output_type": "display_data"
    }
   ],
   "source": [
    "plt.figure(figsize=(10,6))\n",
    "plt.plot(stock_test.iloc[-predict_days:,1:2].values, color='blue', label='Actual Stock Price')\n",
    "plt.plot(predictions , color='red', label='Predicted Stock Price')\n",
    "plt.title('Stock Price Prediction')\n",
    "plt.xlabel('Date')\n",
    "plt.ylabel('Stock Price')\n",
    "plt.legend()\n",
    "plt.grid(True)\n",
    "plt.show()"
   ]
  },
  {
   "cell_type": "markdown",
   "metadata": {
    "id": "0G9qw7eUTEP0"
   },
   "source": [
    "## Дополнительные материалы\n",
    "\n",
    "<ol>\n",
    "    <li>Оригинальная научная статья по LSTM - https://www.bioinf.jku.at/publications/older/2604.pdf</li>\n",
    "    <li>Оригинальная научная статья по GRU - https://arxiv.org/abs/1406.1078</li>\n",
    "</ol>"
   ]
  },
  {
   "cell_type": "markdown",
   "metadata": {
    "id": "EPk_b3MqTEP2"
   },
   "source": [
    "## Используемая литература \n",
    "\n",
    "Для подготовки данного методического пособия были использованы следующие ресурсы:\n",
    "<ol>\n",
    "    <li>https://www.kaggle.com/thebrownviking20/intro-to-recurrent-neural-networks-lstm-gru</li>\n",
    "    <li>Шакла Н. — Машинное обучение и TensorFlow 2019</li>\n",
    "    <li>Николенко, Кадурин, Архангельская: Глубокое обучение. Погружение в мир нейронных сетей 2018</li>\n",
    "    <li>Aurélien Géron - Hands-On Machine Learning with Scikit-Learn, Keras, and TensorFlow: Concepts, Tools, and Techniques to Build Intelligent Systems 2019</li>\n",
    "    <li>https://towardsdatascience.com/illustrated-guide-to-lstms-and-gru-s-a-step-by-step-explanation-44e9eb85bf21</li>\n",
    "    <li>https://github.com/llSourcell/recurrent_neural_net_demo</li>\n",
    "    \n",
    "</ol>"
   ]
  }
 ],
 "metadata": {
  "colab": {
   "name": "metodich5.ipynb",
   "provenance": []
  },
  "kernelspec": {
   "display_name": "Python 3",
   "language": "python",
   "name": "python3"
  },
  "language_info": {
   "codemirror_mode": {
    "name": "ipython",
    "version": 3
   },
   "file_extension": ".py",
   "mimetype": "text/x-python",
   "name": "python",
   "nbconvert_exporter": "python",
   "pygments_lexer": "ipython3",
   "version": "3.8.12"
  }
 },
 "nbformat": 4,
 "nbformat_minor": 1
}
